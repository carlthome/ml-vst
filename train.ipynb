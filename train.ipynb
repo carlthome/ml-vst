{
 "cells": [
  {
   "cell_type": "code",
   "execution_count": 32,
   "metadata": {},
   "outputs": [
    {
     "data": {
      "text/plain": [
       "(TensorSpec(shape=(None, 2048, 1), dtype=tf.float32, name=None),)"
      ]
     },
     "execution_count": 32,
     "metadata": {},
     "output_type": "execute_result"
    }
   ],
   "source": [
    "import tensorflow as tf\n",
    "\n",
    "\n",
    "@tf.function(input_signature=[tf.TensorSpec(shape=[None, 2048, 1], dtype=tf.float32)])\n",
    "def f(x):\n",
    "    y = x + 2\n",
    "    return y\n",
    "\n",
    "\n",
    "f.input_signature"
   ]
  },
  {
   "cell_type": "code",
   "execution_count": 33,
   "metadata": {},
   "outputs": [],
   "source": [
    "class Model(tf.Module):\n",
    "\n",
    "  @tf.function(input_signature=[tf.TensorSpec(shape=[None], dtype=tf.float32)])\n",
    "  def encode(self, x):\n",
    "    result = tf.strings.as_string(x)\n",
    "    return {\n",
    "         \"encoded_result\": result\n",
    "    }\n",
    "\n",
    "  @tf.function(input_signature=[tf.TensorSpec(shape=[None], dtype=tf.string)])\n",
    "  def decode(self, x):\n",
    "    result = tf.strings.to_number(x)\n",
    "    return {\n",
    "         \"decoded_result\": result\n",
    "    }"
   ]
  },
  {
   "cell_type": "code",
   "execution_count": 34,
   "metadata": {},
   "outputs": [
    {
     "name": "stdout",
     "output_type": "stream",
     "text": [
      "INFO:tensorflow:Assets written to: /var/folders/mb/z3d3qg1d4877v0lnbfy5wknc0000gp/T/tmpzzdvgbsi/assets\n"
     ]
    },
    {
     "name": "stderr",
     "output_type": "stream",
     "text": [
      "INFO:tensorflow:Assets written to: /var/folders/mb/z3d3qg1d4877v0lnbfy5wknc0000gp/T/tmpzzdvgbsi/assets\n",
      "2023-02-17 01:16:23.200510: W tensorflow/compiler/mlir/lite/python/tf_tfl_flatbuffer_helpers.cc:362] Ignored output_format.\n",
      "2023-02-17 01:16:23.200527: W tensorflow/compiler/mlir/lite/python/tf_tfl_flatbuffer_helpers.cc:365] Ignored drop_control_dependency.\n",
      "2023-02-17 01:16:23.200775: I tensorflow/cc/saved_model/reader.cc:45] Reading SavedModel from: /var/folders/mb/z3d3qg1d4877v0lnbfy5wknc0000gp/T/tmpzzdvgbsi\n",
      "2023-02-17 01:16:23.200942: I tensorflow/cc/saved_model/reader.cc:89] Reading meta graph with tags { serve }\n",
      "2023-02-17 01:16:23.200948: I tensorflow/cc/saved_model/reader.cc:130] Reading SavedModel debug info (if present) from: /var/folders/mb/z3d3qg1d4877v0lnbfy5wknc0000gp/T/tmpzzdvgbsi\n",
      "2023-02-17 01:16:23.201683: I tensorflow/compiler/mlir/mlir_graph_optimization_pass.cc:357] MLIR V1 optimization pass is not enabled\n",
      "2023-02-17 01:16:23.201810: I tensorflow/cc/saved_model/loader.cc:229] Restoring SavedModel bundle.\n",
      "2023-02-17 01:16:23.225681: I tensorflow/cc/saved_model/loader.cc:213] Running initialization op on SavedModel bundle at path: /var/folders/mb/z3d3qg1d4877v0lnbfy5wknc0000gp/T/tmpzzdvgbsi\n",
      "2023-02-17 01:16:23.227547: I tensorflow/cc/saved_model/loader.cc:305] SavedModel load for tags { serve }; Status: success: OK. Took 26773 microseconds.\n",
      "2023-02-17 01:16:23.231573: I tensorflow/compiler/mlir/tensorflow/utils/dump_mlir_util.cc:268] disabling MLIR crash reproducer, set env var `MLIR_CRASH_REPRODUCER_DIRECTORY` to enable.\n"
     ]
    }
   ],
   "source": [
    "model = Model()\n",
    "\n",
    "converter = tf.lite.TFLiteConverter.from_concrete_functions([f.get_concrete_function()], model)\n",
    "converter.optimizations = [tf.lite.Optimize.DEFAULT]\n",
    "converter.target_spec.supported_ops = [\n",
    "    tf.lite.OpsSet.TFLITE_BUILTINS,\n",
    "    tf.lite.OpsSet.SELECT_TF_OPS\n",
    "]\n",
    "tflite_model = converter.convert()\n",
    "\n",
    "with open(\"model.tflite\", \"wb\") as f:\n",
    "    f.write(tflite_model)"
   ]
  },
  {
   "cell_type": "code",
   "execution_count": 35,
   "metadata": {},
   "outputs": [
    {
     "data": {
      "text/plain": [
       "{'serving_default': {'inputs': ['x'], 'outputs': ['output_0']}}"
      ]
     },
     "execution_count": 35,
     "metadata": {},
     "output_type": "execute_result"
    }
   ],
   "source": [
    "interpreter = tf.lite.Interpreter(model_content=tflite_model)\n",
    "signatures = interpreter.get_signature_list()\n",
    "signatures"
   ]
  }
 ],
 "metadata": {
  "kernelspec": {
   "display_name": ".venv",
   "language": "python",
   "name": "python3"
  },
  "language_info": {
   "codemirror_mode": {
    "name": "ipython",
    "version": 3
   },
   "file_extension": ".py",
   "mimetype": "text/x-python",
   "name": "python",
   "nbconvert_exporter": "python",
   "pygments_lexer": "ipython3",
   "version": "3.9.6"
  },
  "orig_nbformat": 4,
  "vscode": {
   "interpreter": {
    "hash": "d7ba88a3f5514baa77d7474b215f508f3e8d1800f921301ebbc16ff8b2ba4adb"
   }
  }
 },
 "nbformat": 4,
 "nbformat_minor": 2
}
